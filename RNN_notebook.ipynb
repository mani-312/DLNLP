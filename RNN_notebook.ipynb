{
  "cells": [
    {
      "cell_type": "code",
      "execution_count": 250,
      "metadata": {
        "colab": {
          "base_uri": "https://localhost:8080/",
          "height": 34
        },
        "id": "35MfBxKwpmvn",
        "outputId": "e3f15093-134b-4085-b155-0f0f2455e5de"
      },
      "outputs": [],
      "source": [
        "# importing necessary libraries\n",
        "from string import punctuation\n",
        "import pandas as pd\n",
        "from collections import Counter\n",
        "import seaborn as sns\n",
        "import matplotlib.pyplot as plt\n",
        "import pandas as pd\n",
        "import csv\n",
        "import numpy as np\n",
        "import torch\n",
        "import torch.nn as nn\n",
        "from torch.utils.data import TensorDataset, DataLoader\n",
        "from sklearn.metrics import classification_report\n",
        "from wordcloud import WordCloud\n",
        "from sklearn.metrics import f1_score"
      ]
    },
    {
      "cell_type": "code",
      "execution_count": 251,
      "metadata": {},
      "outputs": [
        {
          "name": "stdout",
          "output_type": "stream",
          "text": [
            "!\"#$%&'()*+,-./:;<=>?@[\\]^_`{|}~\n"
          ]
        }
      ],
      "source": [
        "print(punctuation)\n",
        "\n",
        "#class_names = ['negative','positive','neutral'] # Classification0\n",
        "#class_names = ['negative','positive'] #Classification1,Movie_review\n",
        "class_names = ['0','1','2','3','4'] #Classification2\n"
      ]
    },
    {
      "cell_type": "code",
      "execution_count": 252,
      "metadata": {},
      "outputs": [],
      "source": [
        "def fun1(review):\n",
        "    review = review.lower() # lowercase, standardize\n",
        "    return ''.join([c for c in review if c not in punctuation])\n",
        "\n",
        "def fun2(x):\n",
        "    if x=='negative':\n",
        "        return 0\n",
        "    elif x=='positive':\n",
        "        return 1\n",
        "    else:\n",
        "        return 2\n",
        "\n",
        "# Classification0,2 are imbalanced\n",
        "\n",
        "df = pd.read_excel('../Assignments/Ass_1/ClassificationDataset2.xlsx',names = ['sentiment','review']) # classification2\n",
        "#df = pd.read_excel('../Assignments/Ass_1/ClassificationDataset0.xlsx',names=['sentiment','review'],header = None) #Classification0\n",
        "#df = pd.read_csv('../Assignments/Ass_1/all-data.csv',encoding=\"ISO-8859-1\",names=['sentiment','review'],header = None) # all-data\n",
        "#df = pd.read_csv('train.csv') # ../../Sentiment_classification(Movie_reviews)/train.csv, Classification1_new.csv\n",
        "\n",
        "df = df.dropna()\n",
        "df = df.sample(frac=1) # shuffles the data\n",
        "\n",
        "# get rid of punctuation\n",
        "df['review'] = df['review'].apply(fun1)\n",
        "#df['sentiment'] = df['sentiment'].apply(fun2)  # Classification0,all_data\n",
        "df['sentiment'] = df['sentiment'].apply(lambda x: x-1) # classification2"
      ]
    },
    {
      "cell_type": "code",
      "execution_count": 253,
      "metadata": {},
      "outputs": [
        {
          "data": {
            "text/html": [
              "<div>\n",
              "<style scoped>\n",
              "    .dataframe tbody tr th:only-of-type {\n",
              "        vertical-align: middle;\n",
              "    }\n",
              "\n",
              "    .dataframe tbody tr th {\n",
              "        vertical-align: top;\n",
              "    }\n",
              "\n",
              "    .dataframe thead th {\n",
              "        text-align: right;\n",
              "    }\n",
              "</style>\n",
              "<table border=\"1\" class=\"dataframe\">\n",
              "  <thead>\n",
              "    <tr style=\"text-align: right;\">\n",
              "      <th></th>\n",
              "      <th>sentiment</th>\n",
              "      <th>review</th>\n",
              "    </tr>\n",
              "  </thead>\n",
              "  <tbody>\n",
              "    <tr>\n",
              "      <th>2888</th>\n",
              "      <td>4</td>\n",
              "      <td>bought for my sons gopro3  he loves the gopro ...</td>\n",
              "    </tr>\n",
              "    <tr>\n",
              "      <th>2572</th>\n",
              "      <td>4</td>\n",
              "      <td>bought this for canon powershot n because it t...</td>\n",
              "    </tr>\n",
              "    <tr>\n",
              "      <th>81</th>\n",
              "      <td>4</td>\n",
              "      <td>great storage has not failed yet after about a...</td>\n",
              "    </tr>\n",
              "    <tr>\n",
              "      <th>3402</th>\n",
              "      <td>4</td>\n",
              "      <td>great microsdhc card  use it on my phone for e...</td>\n",
              "    </tr>\n",
              "    <tr>\n",
              "      <th>1520</th>\n",
              "      <td>4</td>\n",
              "      <td>i bouthg this memory because in my contry not ...</td>\n",
              "    </tr>\n",
              "  </tbody>\n",
              "</table>\n",
              "</div>"
            ],
            "text/plain": [
              "      sentiment                                             review\n",
              "2888          4  bought for my sons gopro3  he loves the gopro ...\n",
              "2572          4  bought this for canon powershot n because it t...\n",
              "81            4  great storage has not failed yet after about a...\n",
              "3402          4  great microsdhc card  use it on my phone for e...\n",
              "1520          4  i bouthg this memory because in my contry not ..."
            ]
          },
          "execution_count": 253,
          "metadata": {},
          "output_type": "execute_result"
        }
      ],
      "source": [
        "df.head()"
      ]
    },
    {
      "cell_type": "code",
      "execution_count": 254,
      "metadata": {},
      "outputs": [
        {
          "data": {
            "text/plain": [
              "<Axes: xlabel='sentiment', ylabel='count'>"
            ]
          },
          "execution_count": 254,
          "metadata": {},
          "output_type": "execute_result"
        },
        {
          "data": {
            "image/png": "[encoded data removed]",
            "text/plain": [
              "<Figure size 640x480 with 1 Axes>"
            ]
          },
          "metadata": {},
          "output_type": "display_data"
        }
      ],
      "source": [
        "sns.countplot(data = df, x = 'sentiment')"
      ]
    },
    {
      "cell_type": "code",
      "execution_count": 255,
      "metadata": {},
      "outputs": [
        {
          "data": {
            "text/plain": [
              "<seaborn.axisgrid.FacetGrid at 0x7f7bec643af0>"
            ]
          },
          "execution_count": 255,
          "metadata": {},
          "output_type": "execute_result"
        },
        {
          "data": {
            "image/png": "[encoded data removed]",
            "text/plain": [
              "<Figure size 500x500 with 1 Axes>"
            ]
          },
          "metadata": {},
          "output_type": "display_data"
        }
      ],
      "source": [
        "df['total_words'] = df['review'].apply(lambda x: len(x.split(' ')))\n",
        "sns.displot(df,x = 'total_words',bins = 50)"
      ]
    },
    {
      "cell_type": "code",
      "execution_count": 256,
      "metadata": {},
      "outputs": [
        {
          "data": {
            "image/png": "[encoded data removed]",
            "text/plain": [
              "<Figure size 640x480 with 1 Axes>"
            ]
          },
          "metadata": {},
          "output_type": "display_data"
        }
      ],
      "source": [
        "# Most frequent words\n",
        "word_cloud_text = ''.join(df['review'])\n",
        "\n",
        "wordcloud = WordCloud(max_font_size=100, # Maximum font size for the largest word\n",
        "                      max_words=100, # The maximum number of words\n",
        "                      background_color=\"white\", # Background color for the word cloud image\n",
        "                      scale = 10, # Scaling between computation and drawing\n",
        "                      width=800, # Width of the canvas\n",
        "                      height=400 # Height of the canvas\n",
        "                     ).generate(word_cloud_text)\n",
        "\n",
        "plt.figure()\n",
        "plt.imshow(wordcloud, \n",
        "           interpolation=\"bilinear\") # to make the displayed image appear more smoothly\n",
        "plt.axis(\"off\")\n",
        "plt.show()"
      ]
    },
    {
      "cell_type": "code",
      "execution_count": 257,
      "metadata": {},
      "outputs": [
        {
          "name": "stdout",
          "output_type": "stream",
          "text": [
            "Min =  1\n",
            "Max =  1048\n",
            "Mean =  50.44872436218109\n"
          ]
        }
      ],
      "source": [
        "print(\"Min = \",df['total_words'].min())\n",
        "print(\"Max = \",df['total_words'].max())\n",
        "print(\"Mean = \",df['total_words'].mean())"
      ]
    },
    {
      "cell_type": "code",
      "execution_count": 258,
      "metadata": {},
      "outputs": [],
      "source": [
        "dict_path = '/data4/home/manikantab/Diffusion_models/NLP/Hierarchical-attention-networks-pytorch/data/glove.6B.50d.txt'\n",
        "#dict_path = '../Assignments/glove.42B.300d.txt'"
      ]
    },
    {
      "cell_type": "code",
      "execution_count": 259,
      "metadata": {},
      "outputs": [],
      "source": [
        "reviews_split = list(df['review'].values)\n",
        "words = [word for review in reviews_split for word in review.split(' ')]"
      ]
    },
    {
      "cell_type": "code",
      "execution_count": 260,
      "metadata": {
        "colab": {
          "base_uri": "https://localhost:8080/",
          "height": 540
        },
        "id": "3QRdBV51pmvs",
        "outputId": "76e1ca0e-c422-4fd7-f679-316866ec87a2"
      },
      "outputs": [
        {
          "data": {
            "text/plain": [
              "['bought',\n",
              " 'for',\n",
              " 'my',\n",
              " 'sons',\n",
              " 'gopro3',\n",
              " '',\n",
              " 'he',\n",
              " 'loves',\n",
              " 'the',\n",
              " 'gopro',\n",
              " 'and',\n",
              " 'this',\n",
              " 'accessory',\n",
              " 'is',\n",
              " 'great',\n",
              " '',\n",
              " 'allows',\n",
              " 'him',\n",
              " 'to',\n",
              " 'film',\n",
              " 'for',\n",
              " 'long',\n",
              " 'stretches',\n",
              " 'and',\n",
              " 'then',\n",
              " 'he',\n",
              " 'comes',\n",
              " 'in',\n",
              " 'downloads',\n",
              " 'and']"
            ]
          },
          "execution_count": 260,
          "metadata": {},
          "output_type": "execute_result"
        }
      ],
      "source": [
        "words[:30]"
      ]
    },
    {
      "cell_type": "code",
      "execution_count": 261,
      "metadata": {
        "id": "kfsPXnPwpmvw"
      },
      "outputs": [],
      "source": [
        "## Build a dictionary that maps words to integers\n",
        "counts = Counter(words)\n",
        "vocab = sorted(counts, key=counts.get, reverse=True)\n",
        "vocab_to_int = {word: ii for ii, word in enumerate(vocab,1)}\n",
        "\n",
        "wordss = pd.read_csv(filepath_or_buffer=dict_path, header=None, sep=\" \", quoting=csv.QUOTE_NONE,\n",
        "                                usecols=[0]).values\n",
        "dict = {'<unk':0,'<pad>':1}\n",
        "int_to_word = {0:'<unk>',1:'<pad>'}\n",
        "        # use index 0 for <unk> token\n",
        "        # use index 1 for <pad> token\n",
        "for i,word in enumerate(wordss):\n",
        "  dict[word[0]] = i+2\n",
        "  int_to_word[i+2] = word[0]\n",
        "\n",
        "## use the dict to tokenize each review in reviews_split\n",
        "## store the tokenized reviews in reviews_ints\n",
        "reviews_ints = []\n",
        "for review in reviews_split:\n",
        "  #reviews_ints.append([vocab_to_int[word] for word in review.split()])\n",
        "  l = []\n",
        "  for word in review.split():\n",
        "    if word in dict:\n",
        "      l.append(dict[word])\n",
        "    else:\n",
        "      l.append(0)\n",
        "  reviews_ints.append(l)"
      ]
    },
    {
      "cell_type": "code",
      "execution_count": 262,
      "metadata": {
        "colab": {
          "base_uri": "https://localhost:8080/",
          "height": 106
        },
        "id": "pEqnQPc0pmv0",
        "outputId": "fb1d0e3e-872a-4c2a-9252-436da207979d"
      },
      "outputs": [
        {
          "name": "stdout",
          "output_type": "stream",
          "text": [
            "Unique words:  9758\n",
            "\n",
            "Tokenized review: \n",
            " [[1777, 12, 194, 2914, 0, 20, 6743, 2, 331725, 7, 39, 20339, 16, 355, 2417, 105, 6, 321, 12, 175, 10178, 7, 129, 20, 936, 8, 17898, 7, 20409]]\n",
            " bought for my sons <unk> he loves the gopro and this accessory is great allows him to film for long stretches and then he comes in downloads and edits\n"
          ]
        }
      ],
      "source": [
        "# stats about vocabulary\n",
        "print('Unique words: ', len((vocab_to_int)))  # should ~ 74000+\n",
        "print()\n",
        "\n",
        "# print tokens in first review\n",
        "print('Tokenized review: \\n', reviews_ints[:1])\n",
        "word = ''\n",
        "for i in reviews_ints[0]:\n",
        "    word = word+' '+int_to_word[i]\n",
        "print(word)"
      ]
    },
    {
      "cell_type": "code",
      "execution_count": 263,
      "metadata": {},
      "outputs": [],
      "source": [
        "encoded_labels = df['sentiment'].values"
      ]
    },
    {
      "cell_type": "code",
      "execution_count": 264,
      "metadata": {
        "colab": {
          "base_uri": "https://localhost:8080/",
          "height": 52
        },
        "id": "vI0BuLpApmv_",
        "outputId": "c2bb49a4-9273-4662-b606-adf490e69e38"
      },
      "outputs": [
        {
          "name": "stdout",
          "output_type": "stream",
          "text": [
            "Zero-length reviews: 0\n",
            "Maximum review length: 1030\n"
          ]
        }
      ],
      "source": [
        "# outlier review stats\n",
        "review_lens = Counter([len(x) for x in reviews_ints])\n",
        "print(\"Zero-length reviews: {}\".format(review_lens[0]))\n",
        "print(\"Maximum review length: {}\".format(max(review_lens)))"
      ]
    },
    {
      "cell_type": "code",
      "execution_count": 266,
      "metadata": {
        "colab": {
          "base_uri": "https://localhost:8080/",
          "height": 52
        },
        "id": "qoHTVsZlpmwC",
        "outputId": "8bc96fbb-e2fc-4445-e718-88add314c9c5"
      },
      "outputs": [
        {
          "name": "stdout",
          "output_type": "stream",
          "text": [
            "Number of reviews before removing outliers:  3998\n",
            "Number of reviews after removing outliers:  3998\n"
          ]
        }
      ],
      "source": [
        "# Removes zero length reviews\n",
        "\n",
        "print('Number of reviews before removing outliers: ', len(reviews_ints))\n",
        "\n",
        "## remove any reviews/labels with zero length from the reviews_ints list.\n",
        "\n",
        "## get any indices of any reviews with length 0\n",
        "non_zero_idx = [ii for ii, review in enumerate(reviews_ints) if len(review) != 0]\n",
        "\n",
        "# remove 0-length review with their labels\n",
        "reviews_ints = [reviews_ints[ii] for ii in non_zero_idx]\n",
        "encoded_labels = np.array([encoded_labels[ii] for ii in non_zero_idx])\n",
        "\n",
        "print('Number of reviews after removing outliers: ', len(reviews_ints))"
      ]
    },
    {
      "cell_type": "code",
      "execution_count": 267,
      "metadata": {
        "id": "qYZ7BG8DpmwG"
      },
      "outputs": [],
      "source": [
        "def pad_features(reviews_ints, seq_length):\n",
        "    ''' Return features of review_ints, where each review is padded with 0's\n",
        "        or truncated to the input seq_length.\n",
        "    '''\n",
        "    ## getting the correct rows x cols shape\n",
        "    features = np.zeros((len(reviews_ints), seq_length), dtype=int)\n",
        "\n",
        "    ## for each review, I grab that review\n",
        "    for i, row in enumerate(reviews_ints):\n",
        "      #features[i, -len(row):] = np.array(row)[:seq_length]\n",
        "      features[i, :min(len(row),seq_length)] = np.array(row)[:seq_length]\n",
        "\n",
        "    return features"
      ]
    },
    {
      "cell_type": "code",
      "execution_count": 268,
      "metadata": {
        "colab": {
          "base_uri": "https://localhost:8080/",
          "height": 540
        },
        "id": "lJGzkmvGpmwJ",
        "outputId": "e0c45b7e-6253-44c8-ed76-474346a60425"
      },
      "outputs": [
        {
          "name": "stdout",
          "output_type": "stream",
          "text": [
            "[[    0     0     0     0     0     0     0     0     0     0]\n",
            " [    0     0     0     0     0     0     0     0     0     0]\n",
            " [    0     0     0     0     0     0     0     0     0     0]\n",
            " [    0     0     0     0     0     0     0     0     0     0]\n",
            " [    0     0     0     0     0     0     0     0     0     0]\n",
            " [    0     0     0     0     0     0     0     0     0     0]\n",
            " [    0     0     0     0     0     0     0     0     0     0]\n",
            " [    0     0     0     0     0     0     0     0     0     0]\n",
            " [    0     0     0     0     0     0     0     0     0     0]\n",
            " [    0     0     0     0     0     0     0     0     0     0]\n",
            " [    0     0     0     0     0     0     0     0     0     0]\n",
            " [    0     0     0     0     0     0     0     0     0     0]\n",
            " [    0     0     0     0     0     0     0     0     0     0]\n",
            " [14665  3522  1924  5117    15   160   656    36 14665  7394]\n",
            " [    0     0     0     0     0     0     0     0     0     0]\n",
            " [    0     0     0     0     0     0     0     0     0     0]\n",
            " [   19     0   495   650   113    66     2 49826     0    38]\n",
            " [   38     9   532     5  2335     8   628   120     9   154]\n",
            " [ 1087    85    49  4776    48    39  2929 14011 79291   334]\n",
            " [    0     0     0     0     0     0     0     0     0     0]\n",
            " [    0     0     0     0     0     0     0     0     0     0]\n",
            " [    0     0     0     0     0     0     0     0     0     0]\n",
            " [   22    93 18377   495    63 20325     7   262    38 16378]\n",
            " [    0     0     0     0     0     0     0     0     0     0]\n",
            " [    0     0     0     0     0     0     0     0     0     0]\n",
            " [  214    85    43    90     9   175    81 19336    19     9]\n",
            " [    0     0     0     0     0     0     0     0     0     0]\n",
            " [    0     0     0     0     0     0     0     0     0     0]\n",
            " [    0     0     0     0     0     0     0     0     0     0]\n",
            " [    0     0     0     0     0     0     0     0     0     0]]\n"
          ]
        }
      ],
      "source": [
        "# Test your implementation!\n",
        "\n",
        "seq_length = 100 # or choose this based on the statistics of the review length\n",
        "\n",
        "features = pad_features(reviews_ints, seq_length=seq_length)\n",
        "\n",
        "## test statements - do not change - ##\n",
        "assert len(features)==len(reviews_ints), \"Your features should have as many rows as reviews.\"\n",
        "assert len(features[0])==seq_length, \"Each feature row should contain seq_length values.\"\n",
        "\n",
        "# print first 10 values of the first 30 batches\n",
        "print(features[:30,-10:])"
      ]
    },
    {
      "cell_type": "code",
      "execution_count": 269,
      "metadata": {
        "colab": {
          "base_uri": "https://localhost:8080/",
          "height": 86
        },
        "id": "t9aI7xp-pmwN",
        "outputId": "a6dbc322-ca7e-41c2-fc57-271b09e34845"
      },
      "outputs": [
        {
          "name": "stdout",
          "output_type": "stream",
          "text": [
            "\t\t\tFeatures Shapes:\n",
            "Train set: \t\t(3598, 100) \n",
            "Validation set: \t(400, 100)\n"
          ]
        }
      ],
      "source": [
        "split_frac = 0.9\n",
        "\n",
        "## split data into training, validation, and test data (features and labels, x and y)\n",
        "split_idx = int(len(features)*0.9)\n",
        "\n",
        "train_x, val_x = features[:split_idx], features[split_idx:]\n",
        "train_y, val_y = encoded_labels[:split_idx], encoded_labels[split_idx:]\n",
        "\n",
        "# train_x, remaining_x = features[:split_idx], features[split_idx:]\n",
        "# train_y, remaining_y = encoded_labels[:split_idx], encoded_labels[split_idx:]\n",
        "\n",
        "# test_idx = int(len(remaining_x)*0.5)\n",
        "# val_x, test_x = remaining_x[:test_idx], remaining_x[test_idx:]\n",
        "# val_y, test_y = remaining_y[:test_idx], remaining_y[test_idx:]\n",
        "\n",
        "## print out the shapes of your resultant feature data\n",
        "print(\"\\t\\t\\tFeatures Shapes:\")\n",
        "print(\"Train set: \\t\\t{}\".format(train_x.shape),\n",
        "      \"\\nValidation set: \\t{}\".format(val_x.shape))\n",
        "      #\"\\nTest set: \\t\\t{}\".format(test_x.shape))\n",
        "\n"
      ]
    },
    {
      "cell_type": "code",
      "execution_count": 270,
      "metadata": {},
      "outputs": [
        {
          "name": "stdout",
          "output_type": "stream",
          "text": [
            "Train  --  Counter({4: 2891, 3: 385, 0: 166, 2: 96, 1: 60})\n",
            "Val  --  Counter({4: 312, 3: 48, 0: 28, 2: 10, 1: 2})\n"
          ]
        }
      ],
      "source": [
        "print(\"Train  -- \",Counter(train_y))\n",
        "print(\"Val  -- \",Counter(val_y))"
      ]
    },
    {
      "cell_type": "code",
      "execution_count": 271,
      "metadata": {
        "id": "bpZdIItNpmwU"
      },
      "outputs": [],
      "source": [
        "\n",
        "\n",
        "# create Tensor datasets\n",
        "train_data = TensorDataset(torch.from_numpy(train_x), torch.from_numpy(train_y))\n",
        "valid_data = TensorDataset(torch.from_numpy(val_x), torch.from_numpy(val_y))\n",
        "#test_data = TensorDataset(torch.from_numpy(test_x), torch.from_numpy(test_y))\n",
        "\n",
        "# dataloaders\n",
        "batch_size = 64\n",
        "\n",
        "# make sure to SHUFFLE your data\n",
        "train_loader = DataLoader(train_data, shuffle=True, batch_size=batch_size)\n",
        "valid_loader = DataLoader(valid_data, shuffle=True, batch_size=batch_size)\n",
        "#test_loader = DataLoader(test_data, shuffle=True, batch_size=batch_size)"
      ]
    },
    {
      "cell_type": "code",
      "execution_count": 272,
      "metadata": {
        "colab": {
          "base_uri": "https://localhost:8080/",
          "height": 278
        },
        "id": "en1OTAlXpmwZ",
        "outputId": "febaf4ac-70e7-46bb-8f04-f0d2da270345"
      },
      "outputs": [
        {
          "name": "stdout",
          "output_type": "stream",
          "text": [
            "Sample input size:  torch.Size([64, 100])\n",
            "Sample input: \n",
            " tensor([[  43,  743,    9,  ...,    0,    0,    0],\n",
            "        [ 182,   39,    8,  ...,    0,    0,    0],\n",
            "        [1777,   39,    6,  ...,    0,    0,    0],\n",
            "        ...,\n",
            "        [  43,   35,   86,  ...,    0,    0,    0],\n",
            "        [   9,  145,  118,  ...,    0,    0,    0],\n",
            "        [1777,   39,    6,  ...,    0,    0,    0]])\n",
            "\n",
            "Sample label size:  torch.Size([64])\n",
            "Sample label: \n",
            " tensor([4, 4, 4, 4, 4, 4, 3, 4, 4, 4, 4, 4, 4, 4, 4, 4, 4, 3, 4, 3, 4, 4, 4, 4,\n",
            "        4, 4, 2, 4, 4, 4, 4, 4, 4, 4, 4, 4, 4, 3, 4, 4, 4, 4, 4, 4, 4, 4, 4, 4,\n",
            "        4, 2, 4, 4, 1, 4, 3, 4, 4, 4, 3, 3, 1, 4, 3, 4])\n"
          ]
        }
      ],
      "source": [
        "# obtain one batch of training data\n",
        "dataiter = iter(train_loader)\n",
        "sample_x, sample_y = dataiter.next()\n",
        "\n",
        "print('Sample input size: ', sample_x.size()) # batch_size, seq_length\n",
        "print('Sample input: \\n', sample_x)\n",
        "print()\n",
        "print('Sample label size: ', sample_y.size()) # batch_size\n",
        "print('Sample label: \\n', sample_y)"
      ]
    },
    {
      "cell_type": "code",
      "execution_count": 273,
      "metadata": {
        "colab": {
          "base_uri": "https://localhost:8080/",
          "height": 34
        },
        "id": "9xIULz1Zpmwf",
        "outputId": "9611d1f3-c92c-4772-9eeb-033117d0b343"
      },
      "outputs": [
        {
          "name": "stdout",
          "output_type": "stream",
          "text": [
            "Training on GPU.\n"
          ]
        }
      ],
      "source": [
        "# First checking if GPU is available\n",
        "train_on_gpu=torch.cuda.is_available()\n",
        "\n",
        "if(train_on_gpu):\n",
        "    print('Training on GPU.')\n",
        "else:\n",
        "    print('No GPU available, training on CPU.')"
      ]
    },
    {
      "cell_type": "code",
      "execution_count": 274,
      "metadata": {},
      "outputs": [],
      "source": [
        "device = 'cuda:6'"
      ]
    },
    {
      "cell_type": "code",
      "execution_count": 276,
      "metadata": {
        "id": "TJHNs4FZpmwj"
      },
      "outputs": [],
      "source": [
        "\n",
        "class SentimentRNN(nn.Module):\n",
        "    \"\"\"\n",
        "    The RNN model that will be used to perform Sentiment analysis.\n",
        "    \"\"\"\n",
        "\n",
        "    def __init__(self, vocab_size, output_size, embedding_dim, hidden_dim, n_layers, drop_prob=0.5):\n",
        "        \"\"\"\n",
        "        Initialize the model by setting up the layers.\n",
        "        \"\"\"\n",
        "        super(SentimentRNN, self).__init__()\n",
        "\n",
        "        self.output_size = output_size\n",
        "        self.n_layers = n_layers\n",
        "        self.hidden_dim = hidden_dim\n",
        "\n",
        "\n",
        "        dict = pd.read_csv(filepath_or_buffer=dict_path, header=None, sep=\" \", quoting=csv.QUOTE_NONE).values[:, 1:]\n",
        "        dict_len, embed_size = dict.shape\n",
        "        dict_len += 2\n",
        "        # index 0 for <unk>\n",
        "        # index 1 for <pad>\n",
        "        unk_pad = np.zeros((2, embed_size))\n",
        "        dict = torch.from_numpy(np.concatenate([unk_pad, dict], axis=0).astype(np.float32))\n",
        "        # embedding and LSTM layers\n",
        "        # self.embedding = nn.Embedding(vocab_size, embedding_dim)\n",
        "\n",
        "        #embed_size = embedding_dim\n",
        "        self.embedding = nn.Embedding(dict_len, embed_size).from_pretrained(dict)\n",
        "        \n",
        "        self.lstm = nn.LSTM(embed_size, hidden_dim, n_layers,\n",
        "                            dropout=drop_prob, batch_first=True)\n",
        "\n",
        "        # dropout layer\n",
        "        self.dropout = nn.Dropout(0.3)\n",
        "\n",
        "        # linear and sigmoid layer\n",
        "        self.fc = nn.Linear(hidden_dim, output_size)\n",
        "        #self.sig = nn.Sigmoid()\n",
        "\n",
        "    def forward(self, x, hidden):\n",
        "        \"\"\"\n",
        "        Perform a forward pass of our model on some input and hidden state.\n",
        "        \"\"\"\n",
        "        batch_size = x.size(0)\n",
        "\n",
        "        #print(x.shape)\n",
        "\n",
        "        # embeddings and lstm_out\n",
        "        embeds = self.embedding(x)\n",
        "\n",
        "        #print(embeds.shape)\n",
        "        \n",
        "        lstm_out, hidden = self.lstm(embeds, hidden)\n",
        "        \n",
        "        # stack up lstm outputs\n",
        "        #lstm_out = lstm_out.contiguous().view(-1, self.hidden_dim)\n",
        "        lstm_out = lstm_out[:,-1,:]\n",
        "\n",
        "        # dropout and fully connected layer\n",
        "        out = self.dropout(lstm_out)\n",
        "        out = self.fc(out)\n",
        "\n",
        "        # sigmoid function\n",
        "        #sig_out = self.sig(out)\n",
        "\n",
        "        # reshape to be batch_size first\n",
        "        #sig_out = sig_out.view(batch_size, -1)\n",
        "        #sig_out = sig_out[:, -1] # get last batch of labels\n",
        "\n",
        "        # return last sigmoid output and hidden state\n",
        "        return out, hidden\n",
        "\n",
        "\n",
        "    def init_hidden(self, batch_size):\n",
        "        ''' Initializes hidden state '''\n",
        "        # Create two new tensors with sizes n_layers x batch_size x hidden_dim,\n",
        "        # initialized to zero, for hidden state and cell state of LSTM\n",
        "        weight = next(self.parameters()).data\n",
        "\n",
        "        if(train_on_gpu):\n",
        "          hidden = (weight.new(self.n_layers, batch_size, self.hidden_dim).zero_().to(device),\n",
        "                   weight.new(self.n_layers, batch_size, self.hidden_dim).zero_().to(device))\n",
        "        else:\n",
        "          hidden = (weight.new(self.n_layers, batch_size, self.hidden_dim).zero_(),\n",
        "                   weight.new(self.n_layers, batch_size, self.hidden_dim).zero_())\n",
        "\n",
        "        return hidden\n"
      ]
    },
    {
      "cell_type": "code",
      "execution_count": 277,
      "metadata": {
        "colab": {
          "base_uri": "https://localhost:8080/",
          "height": 139
        },
        "id": "vZARxJ74pmwn",
        "outputId": "2de8ce87-91c7-4fb9-ba1e-45721658e45b"
      },
      "outputs": [
        {
          "name": "stdout",
          "output_type": "stream",
          "text": [
            "SentimentRNN(\n",
            "  (embedding): Embedding(400002, 50)\n",
            "  (lstm): LSTM(50, 256, num_layers=2, batch_first=True, dropout=0.5)\n",
            "  (dropout): Dropout(p=0.3, inplace=False)\n",
            "  (fc): Linear(in_features=256, out_features=5, bias=True)\n",
            ")\n"
          ]
        }
      ],
      "source": [
        "# Instantiate the model w/ hyperparams\n",
        "vocab_size = len(vocab_to_int) + 1 # +1 for zero padding + our word tokens\n",
        "output_size = len(class_names) # classes in dataset\n",
        "embedding_dim = 400\n",
        "hidden_dim = 256\n",
        "n_layers = 2\n",
        "\n",
        "net = SentimentRNN(vocab_size, output_size, embedding_dim, hidden_dim, n_layers)\n",
        "\n",
        "print(net)"
      ]
    },
    {
      "cell_type": "code",
      "execution_count": 278,
      "metadata": {
        "id": "cLmCzDanpmwq"
      },
      "outputs": [],
      "source": [
        "# loss and optimization functions\n",
        "lr=0.001\n",
        "\n",
        "#criterion = nn.BCELoss()\n",
        "criterion = nn.CrossEntropyLoss()\n",
        "optimizer = torch.optim.Adam(net.parameters(), lr=lr,weight_decay=1e-2)\n"
      ]
    },
    {
      "cell_type": "code",
      "execution_count": 279,
      "metadata": {
        "colab": {
          "base_uri": "https://localhost:8080/",
          "height": 296
        },
        "id": "rJqrvKg0pmwu",
        "outputId": "a2c599cc-4d06-47b5-8f17-196eb132c5a3"
      },
      "outputs": [
        {
          "name": "stdout",
          "output_type": "stream",
          "text": [
            "Epoch: 2/10... Step: 100... Loss: 0.898874... Val Loss: 0.755632 Val Accuracy: 0.780000\n",
            "Epoch: 4/10... Step: 200... Loss: 0.547177... Val Loss: 0.754512 Val Accuracy: 0.780000\n",
            "Epoch: 6/10... Step: 300... Loss: 0.937888... Val Loss: 0.777740 Val Accuracy: 0.780000\n",
            "Epoch: 8/10... Step: 400... Loss: 0.755844... Val Loss: 0.785470 Val Accuracy: 0.780000\n",
            "Epoch: 9/10... Step: 500... Loss: 0.602555... Val Loss: 0.812855 Val Accuracy: 0.780000\n"
          ]
        }
      ],
      "source": [
        "# training params\n",
        "\n",
        "epochs = 10 # 3-4 is approx where I noticed the validation loss stop decreasing\n",
        "\n",
        "counter = 0\n",
        "print_every = 100\n",
        "clip=5 # gradient clipping\n",
        "\n",
        "# move model to GPU, if available\n",
        "if(train_on_gpu):\n",
        "    net =  net.to(device)\n",
        "\n",
        "best_val_acc = 0.8\n",
        "\n",
        "net.train()\n",
        "# train for some number of epochs\n",
        "for e in range(epochs):\n",
        "    # initialize hidden state\n",
        "    h = net.init_hidden(batch_size)\n",
        "\n",
        "    # batch loop\n",
        "    for inputs, labels in train_loader:\n",
        "        counter += 1\n",
        "\n",
        "        if(train_on_gpu):\n",
        "            inputs, labels = inputs.to(device), labels.to(device)\n",
        "\n",
        "        # Creating new variables for the hidden state, otherwise\n",
        "        # we'd backprop through the entire training history\n",
        "        # h = tuple([each.data for each in h])\n",
        "        h = net.init_hidden(inputs.size(0))\n",
        "\n",
        "        # zero accumulated gradients\n",
        "        net.zero_grad()\n",
        "\n",
        "        # get the output from the model\n",
        "        output, h = net(inputs, h)\n",
        "\n",
        "        # calculate the loss and perform backprop\n",
        "        #loss = criterion(output.squeeze(), labels.float())\n",
        "        loss = criterion(output, labels)\n",
        "        loss.backward()\n",
        "        # `clip_grad_norm` helps prevent the exploding gradient problem in RNNs / LSTMs.\n",
        "        nn.utils.clip_grad_norm_(net.parameters(), clip)\n",
        "        optimizer.step()\n",
        "\n",
        "        # loss stats\n",
        "        if counter % print_every == 0:\n",
        "            # Get validation loss\n",
        "            val_h = net.init_hidden(batch_size)\n",
        "            val_losses = []\n",
        "            num_correct = 0\n",
        "            net.eval()\n",
        "            for inputs, labels in valid_loader:\n",
        "\n",
        "                # Creating new variables for the hidden state, otherwise\n",
        "                # we'd backprop through the entire training history\n",
        "                #val_h = tuple([each.data for each in val_h]) # if we do this we need to worry about whether val_h aligns with batch_size of last batch\n",
        "                val_h = net.init_hidden(inputs.size(0))\n",
        "\n",
        "                if(train_on_gpu):\n",
        "                    inputs, labels = inputs.to(device), labels.to(device)\n",
        "\n",
        "                output, val_h = net(inputs, val_h)\n",
        "                #val_loss = criterion(output.squeeze(), labels.float())\n",
        "                val_loss = criterion(output, labels)\n",
        "\n",
        "                val_losses.append(val_loss.item())\n",
        "\n",
        "                pred = output.softmax(dim = 1).argmax(dim = 1)\n",
        "\n",
        "                # compare predictions to true label\n",
        "                correct_tensor = pred.eq(labels.float().view_as(pred))\n",
        "                correct = np.squeeze(correct_tensor.numpy()) if not train_on_gpu else np.squeeze(correct_tensor.cpu().numpy())\n",
        "                num_correct += np.sum(correct)\n",
        "\n",
        "            val_acc = num_correct/len(valid_loader.dataset)\n",
        "            net.train()\n",
        "            print(\"Epoch: {}/{}...\".format(e+1, epochs),\n",
        "                  \"Step: {}...\".format(counter),\n",
        "                  \"Loss: {:.6f}...\".format(loss.item()),\n",
        "                  \"Val Loss: {:.6f}\".format(np.mean(val_losses)),\n",
        "                  \"Val Accuracy: {:.6f}\".format(val_acc))\n",
        "            \n"
      ]
    },
    {
      "cell_type": "code",
      "execution_count": 280,
      "metadata": {
        "colab": {
          "base_uri": "https://localhost:8080/",
          "height": 52
        },
        "id": "xd_GWDE0pmwz",
        "outputId": "68e715fb-7df8-4d63-b06f-0de83e6d752c"
      },
      "outputs": [
        {
          "name": "stdout",
          "output_type": "stream",
          "text": [
            "Test loss: 0.749\n",
            "Test accuracy: 0.780\n",
            "              precision    recall  f1-score   support\n",
            "\n",
            "           0       0.00      0.00      0.00        28\n",
            "           1       0.00      0.00      0.00         2\n",
            "           2       0.00      0.00      0.00        10\n",
            "           3       0.00      0.00      0.00        48\n",
            "           4       0.78      1.00      0.88       312\n",
            "\n",
            "    accuracy                           0.78       400\n",
            "   macro avg       0.16      0.20      0.18       400\n",
            "weighted avg       0.61      0.78      0.68       400\n",
            "\n",
            "\n",
            "------------- Micro F1 Score == 0.78 ------------\n",
            "------------- Macro F1 Score == 0.1752808988764045 ------------\n",
            "\n"
          ]
        },
        {
          "name": "stderr",
          "output_type": "stream",
          "text": [
            "/data4/home/manikantab/Diffusion_models/lib/python3.8/site-packages/sklearn/metrics/_classification.py:1344: UndefinedMetricWarning: Precision and F-score are ill-defined and being set to 0.0 in labels with no predicted samples. Use `zero_division` parameter to control this behavior.\n",
            "  _warn_prf(average, modifier, msg_start, len(result))\n",
            "/data4/home/manikantab/Diffusion_models/lib/python3.8/site-packages/sklearn/metrics/_classification.py:1344: UndefinedMetricWarning: Precision and F-score are ill-defined and being set to 0.0 in labels with no predicted samples. Use `zero_division` parameter to control this behavior.\n",
            "  _warn_prf(average, modifier, msg_start, len(result))\n",
            "/data4/home/manikantab/Diffusion_models/lib/python3.8/site-packages/sklearn/metrics/_classification.py:1344: UndefinedMetricWarning: Precision and F-score are ill-defined and being set to 0.0 in labels with no predicted samples. Use `zero_division` parameter to control this behavior.\n",
            "  _warn_prf(average, modifier, msg_start, len(result))\n"
          ]
        }
      ],
      "source": [
        "# Get test data loss and accuracy\n",
        "\n",
        "test_losses = [] # track loss\n",
        "total_pred = []\n",
        "total_correct = []\n",
        "num_correct = 0\n",
        "\n",
        "# init hidden state\n",
        "h = net.init_hidden(batch_size)\n",
        "\n",
        "net.eval()\n",
        "# iterate over test data\n",
        "for inputs, labels in valid_loader:\n",
        "\n",
        "    # Creating new variables for the hidden state, otherwise\n",
        "    # we'd backprop through the entire training history\n",
        "    # h = tuple([each.data for each in h])\n",
        "    h = net.init_hidden(inputs.size(0))\n",
        "\n",
        "    if(train_on_gpu):\n",
        "        inputs, labels = inputs.to(device), labels.to(device)\n",
        "\n",
        "    # get predicted outputs\n",
        "    output, h = net(inputs, h)\n",
        "\n",
        "    # calculate loss\n",
        "    # test_loss = criterion(output.squeeze(), labels.float())\n",
        "    test_loss = criterion(output, labels)\n",
        "    test_losses.append(test_loss.item())\n",
        "\n",
        "    # convert output probabilities to predicted class (0 or 1)\n",
        "    #pred = torch.round(output.squeeze())  # rounds to the nearest integer\n",
        "    pred = output.softmax(dim = 1).argmax(dim = 1)\n",
        "\n",
        "    total_pred.extend(list(pred.cpu().numpy()))\n",
        "    total_correct.extend(list(labels.cpu().numpy()))\n",
        "\n",
        "\n",
        "    # compare predictions to true label\n",
        "    correct_tensor = pred.eq(labels.float().view_as(pred))\n",
        "    correct = np.squeeze(correct_tensor.numpy()) if not train_on_gpu else np.squeeze(correct_tensor.cpu().numpy())\n",
        "    num_correct += np.sum(correct)\n",
        "\n",
        "\n",
        "# -- stats! -- ##\n",
        "# avg test loss\n",
        "print(\"Test loss: {:.3f}\".format(np.mean(test_losses)))\n",
        "\n",
        "# accuracy over all test data\n",
        "test_acc = num_correct/len(valid_loader.dataset)\n",
        "print(\"Test accuracy: {:.3f}\".format(test_acc))\n",
        "\n",
        "\n",
        "print(classification_report(total_correct, total_pred,target_names=class_names))\n",
        "\n",
        "macroF1 = f1_score(total_correct, total_pred, average='macro')\n",
        "microF1 = f1_score(total_correct, total_pred, average='micro')\n",
        "\n",
        "print(\"\\n------------- Micro F1 Score == {} ------------\".format(microF1))\n",
        "print(\"------------- Macro F1 Score == {} ------------\\n\".format(macroF1))\n"
      ]
    },
    {
      "cell_type": "code",
      "execution_count": 148,
      "metadata": {
        "id": "_h6qY0fIpmw2"
      },
      "outputs": [],
      "source": [
        "# negative test review\n",
        "test_review_neg = 'The worst movie I have seen; acting was terrible and I want my money back. This movie had bad acting and the dialogue was slow.'\n"
      ]
    },
    {
      "cell_type": "code",
      "execution_count": 149,
      "metadata": {
        "colab": {
          "base_uri": "https://localhost:8080/",
          "height": 34
        },
        "id": "xcrLL0YZYvPo",
        "outputId": "2819e8a3-998f-4549-9ad8-e2fc2fe89195"
      },
      "outputs": [
        {
          "name": "stdout",
          "output_type": "stream",
          "text": [
            "[[2, 1609, 1007, 43, 35, 543, 2052, 17, 5512, 7, 43, 305, 194, 310, 139, 39, 1007, 42, 980, 2052, 7, 2, 2471, 17, 2051]]\n"
          ]
        }
      ],
      "source": [
        "def tokenize_review(test_review):\n",
        "    test_review = test_review.lower() # lowercase\n",
        "    # get rid of punctuatuon\n",
        "    test_text = ''.join([c for c in test_review if c not in punctuation])\n",
        "\n",
        "    # splitting by spaces\n",
        "    test_words = test_text.split()\n",
        "\n",
        "    # tokens\n",
        "    test_ints = []\n",
        "    #test_ints.append([vocab_to_int[word] for word in test_words])\n",
        "    l = []\n",
        "    for word in test_words:\n",
        "        if word in dict:\n",
        "            l.append(dict[word])\n",
        "        else:\n",
        "            l.append(0)\n",
        "    test_ints.append(l)\n",
        "\n",
        "    return test_ints\n",
        "\n",
        "# test code and generate tokenized review\n",
        "test_ints = tokenize_review(test_review_neg)\n",
        "print(test_ints)"
      ]
    },
    {
      "cell_type": "code",
      "execution_count": 150,
      "metadata": {
        "colab": {
          "base_uri": "https://localhost:8080/",
          "height": 226
        },
        "id": "zZymOrN3bZYm",
        "outputId": "0686ce7c-0def-49ae-ece2-6fafd11a9d1d"
      },
      "outputs": [
        {
          "name": "stdout",
          "output_type": "stream",
          "text": [
            "[[   2 1609 1007   43   35  543 2052   17 5512    7   43  305  194  310\n",
            "   139   39 1007   42  980 2052]]\n"
          ]
        }
      ],
      "source": [
        "# test sequence padding\n",
        "#seq_length = 20\n",
        "features = pad_features(test_ints, seq_length)\n",
        "\n",
        "print(features)"
      ]
    },
    {
      "cell_type": "code",
      "execution_count": 151,
      "metadata": {
        "colab": {
          "base_uri": "https://localhost:8080/",
          "height": 34
        },
        "id": "j80t9nPNbmHf",
        "outputId": "16a0c19c-0750-48e7-c147-c5dc838449e7"
      },
      "outputs": [
        {
          "name": "stdout",
          "output_type": "stream",
          "text": [
            "torch.Size([1, 20])\n"
          ]
        }
      ],
      "source": [
        "# test conversion to tensor and pass it to model\n",
        "feature_tensor = torch.from_numpy(features)\n",
        "print(feature_tensor.size())"
      ]
    },
    {
      "cell_type": "code",
      "execution_count": 152,
      "metadata": {
        "id": "axUZJ4mCpmw6"
      },
      "outputs": [],
      "source": [
        "def predict(net, test_review, sequence_length=200):\n",
        "    ''' Prints out whether a give review is predicted to be\n",
        "        positive or negative in sentiment, using a trained model.\n",
        "\n",
        "        params:\n",
        "        net - A trained net\n",
        "        test_review - a review made of normal text and punctuation\n",
        "        sequence_length - the padded length of a review\n",
        "        '''\n",
        "\n",
        "    net.eval()\n",
        "\n",
        "    # tokenize review\n",
        "    test_ints = tokenize_review(test_review)\n",
        "\n",
        "    # pad tokenize sequence\n",
        "    seq_length = sequence_length\n",
        "    features = pad_features(test_ints, seq_length)\n",
        "\n",
        "    # convert to tensor to pass to model\n",
        "    feature_tensor = torch.from_numpy(features)\n",
        "\n",
        "    batch_size = feature_tensor.size(0)\n",
        "\n",
        "    # initialize hidden state\n",
        "    h = net.init_hidden(batch_size)\n",
        "\n",
        "    if(train_on_gpu):\n",
        "      feature_tensor = feature_tensor.to(device)\n",
        "\n",
        "    # get the output from the model\n",
        "    output, h = net(feature_tensor, h)\n",
        "\n",
        "    # convert output probabilities to predicted class (0 or 1)\n",
        "    #pred = torch.round(output.squeeze())\n",
        "    pred = output.softmax(dim = 1).argmax(dim = 1)\n",
        "    # printing output value, before rounding\n",
        "    # print('Prediction value, pre-rounding: {:.6f}'.format(output.item()))\n",
        "    print('Prediction value, pre-rounding: {}'.format(output.softmax(dim = 1)))\n",
        "\n",
        "    # print custom response based on whether test_review is pos/neg\n",
        "    if(pred.item()==1):\n",
        "      print('Positive review detected!')\n",
        "    else:\n",
        "      print('Negative review detected!')\n",
        "\n"
      ]
    },
    {
      "cell_type": "code",
      "execution_count": 153,
      "metadata": {
        "id": "X6eLet-tpmw9"
      },
      "outputs": [],
      "source": [
        "# positive test review\n",
        "test_review_pos = 'This movie had the best acting and the dialogue was so good. I loved it.'\n"
      ]
    },
    {
      "cell_type": "code",
      "execution_count": 154,
      "metadata": {
        "colab": {
          "base_uri": "https://localhost:8080/",
          "height": 86
        },
        "id": "NIB-pSP1pmxB",
        "outputId": "b885a115-ceb1-465b-ca66-66954a344889"
      },
      "outputs": [
        {
          "name": "stdout",
          "output_type": "stream",
          "text": [
            "Prediction value, pre-rounding: tensor([[0.9330, 0.0670]], device='cuda:6', grad_fn=<SoftmaxBackward>)\n",
            "Negative review detected!\n",
            "Prediction value, pre-rounding: tensor([[0.0386, 0.9614]], device='cuda:6', grad_fn=<SoftmaxBackward>)\n",
            "Positive review detected!\n"
          ]
        }
      ],
      "source": [
        "# call function\n",
        "# try negative and positive reviews!\n",
        "#seq_length=200\n",
        "predict(net, test_review_neg, seq_length)\n",
        "predict(net, test_review_pos, seq_length)"
      ]
    },
    {
      "cell_type": "markdown",
      "metadata": {
        "id": "KGKT_3RbpmxG"
      },
      "source": [
        "### Try out test_reviews of your own!\n",
        "\n",
        "Now that you have a trained model and a predict function, you can pass in _any_ kind of text and this model will predict whether the text has a positive or negative sentiment. Push this model to its limits and try to find what words it associates with positive or negative.\n",
        "\n",
        "Later, you'll learn how to deploy a model like this to a production environment so that it can respond to any kind of user data put into a web app!"
      ]
    },
    {
      "cell_type": "code",
      "execution_count": null,
      "metadata": {
        "id": "TT8spavKpmxH"
      },
      "outputs": [],
      "source": []
    }
  ],
  "metadata": {
    "accelerator": "GPU",
    "colab": {
      "name": "Sentiment_RNN_Exercise.ipynb",
      "provenance": []
    },
    "kernelspec": {
      "display_name": "Python 3",
      "name": "python3"
    },
    "language_info": {
      "codemirror_mode": {
        "name": "ipython",
        "version": 3
      },
      "file_extension": ".py",
      "mimetype": "text/x-python",
      "name": "python",
      "nbconvert_exporter": "python",
      "pygments_lexer": "ipython3",
      "version": "3.8.10"
    }
  },
  "nbformat": 4,
  "nbformat_minor": 0
}
